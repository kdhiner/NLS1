{
 "metadata": {
  "name": "",
  "signature": "sha256:ffeb5f1bd2b3752dd5e0aa4b698c3d13a89089fab3bb60a398b583817de35eb8"
 },
 "nbformat": 3,
 "nbformat_minor": 0,
 "worksheets": [
  {
   "cells": [
    {
     "cell_type": "markdown",
     "metadata": {},
     "source": [
      "# Line Measurements\n",
      "\n",
      "This notebook is a copy of the Line Measurements notebook and is specifically tooled to the H alpha profile\n",
      "\n",
      "Note: the pyspeckit plotter routine does not function well when plots are shown inline. In particular, the plotter.refresh() feature does not work. So, start the notebook server from command line with $ipython notebook --pylab & "
     ]
    },
    {
     "cell_type": "markdown",
     "metadata": {},
     "source": [
      "#Generalization\n",
      "\n",
      "I want to generalize this notebook so that it will work with any of the spectra that I feed it. \n",
      "\n",
      "To reproduce first good fit that I obtained, must run once, crash, reinitialize parameters, run again."
     ]
    },
    {
     "cell_type": "code",
     "collapsed": false,
     "input": [
      "import numpy as np \n",
      "import pyspeckit as pspec \n",
      "from pyspeckit import spectrum as spec\n",
      "from matplotlib import pyplot as plt"
     ],
     "language": "python",
     "metadata": {},
     "outputs": [],
     "prompt_number": 1
    },
    {
     "cell_type": "code",
     "collapsed": false,
     "input": [
      "# Define the file directory where the data are located\n",
      "pre = '/Users/Kyle/NLS1/spectro/magellan14b/'\n",
      "post = '_z.fits'\n",
      "\n",
      "# Define region for H-alpha plotting\n",
      "xmin = 6200.\n",
      "xmax = 7000.\n",
      "\n",
      "# Define the regions for the continuum fitting\n",
      "ex_regions = [0, 4565, 4800, 5050, 5178, 5230, 5708, 5730, \\\n",
      "              5850, 5910, 6290, 6400, 6500, 6760, 7220, 7500]\n",
      "    \n",
      "# Define the initial parameters for line\n",
      "Ha = 6563.\n",
      "NIIa = 6550.\n",
      "NIIb = 6586.\n",
      "SIIa = 6718.\n",
      "SIIb = 6733.\n",
      "\n",
      "T, F = True, False\n",
      "\n",
      "# Define the initial guesses\n",
      "guess = [1e-16, NIIa, 10., \\\n",
      "        2e-16, NIIb, 10., \\\n",
      "        1e-16, Ha, 10., \\\n",
      "        1e-16, Ha, 50., \\\n",
      "        1e-17, SIIa, 10., \\\n",
      "        1e-17, SIIb, 10.]\n",
      "    \n",
      "# Define which parameters are constrained to each other\n",
      "tied = ['', '', 'p[17]', \\\n",
      "        '', '', 'p[17]', \\\n",
      "        '', '', 'p[17]', \\\n",
      "        '', '', '', \\\n",
      "        '', '', 'p[17]', \\\n",
      "        '', '', '']\n",
      "    \n",
      "# Define the limits on each parameter\n",
      "limits = [(0.1 * guess[0], 100.), (NIIa - 2., NIIa + 2.), (0., 100.), \\\n",
      "        (0.1 * guess[3], 100.), (NIIb - 2., NIIb + 2.), (0., 100.), \\\n",
      "        (0.1 * guess[6], 100.), (Ha - 2., Ha + 2.), (0., 100.), \\\n",
      "        (0.1 * guess[9], 100.), (Ha - 2., Ha + 2.), (10., 100.),\n",
      "        (0.1 * guess[12], 100.), (SIIa - 2., SIIa + 2.), (0., 100.), \\\n",
      "        (0.1 * guess[15], 100.), (SIIb - 2., SIIb + 2.), (0., 100.)]\n",
      "    \n",
      "# State whether the limit should be enforced\n",
      "limited = [(F, F), (T, T), (F, T), \\\n",
      "        (F, F), (T, T), (F, T), \\\n",
      "        (F, F), (T, T), (F, T), \\\n",
      "        (F, F), (T, T), (T, F), \\\n",
      "        (T, F), (T, T), (F, T), \\\n",
      "        (T, F), (T, T), (F, T)]"
     ],
     "language": "python",
     "metadata": {},
     "outputs": [],
     "prompt_number": 2
    },
    {
     "cell_type": "code",
     "collapsed": false,
     "input": [
      "sp = spec.Spectrum(pre + 'sdss2215m0945' + post)\n",
      "sp.plotter()"
     ],
     "language": "python",
     "metadata": {},
     "outputs": [
      {
       "output_type": "stream",
       "stream": "stderr",
       "text": [
        "The ascard function is deprecated and may be removed in a future version.\n",
        "        Use the `.cards` attribute instead.\n",
        "The CardList class has been deprecated; all its former functionality has been subsumed by the Header class, so CardList objects should not be directly created.  See the PyFITS 3.1.0 CHANGELOG for more details.\n",
        "The use of header.update() to add new keywords to a header is deprecated.  Instead, use either header.set() or simply `header[keyword] = value` or `header[keyword] = (value, comment)`.  header.set() is only necessary to use if you also want to use the before/after keyword arguments.\n",
        "Warning: No reference frequency found.  Velocity transformations will not be possible unless you set a reference frequency/wavelength\n"
       ]
      }
     ],
     "prompt_number": 3
    },
    {
     "cell_type": "code",
     "collapsed": false,
     "input": [
      "# Fit and remove the continuum \n",
      "\n",
      "sp.baseline(exclude = ex_regions, order = 3, highlight_fitregion = True)"
     ],
     "language": "python",
     "metadata": {},
     "outputs": [
      {
       "output_type": "stream",
       "stream": "stderr",
       "text": [
        "invalid value encountered in subtract\n",
        "`rank` is deprecated; use the `ndim` attribute or function instead. To find the rank of a matrix see `numpy.linalg.matrix_rank`.\n"
       ]
      }
     ],
     "prompt_number": 4
    },
    {
     "cell_type": "markdown",
     "metadata": {},
     "source": [
      "sp.baseline.unsubtract()\n",
      "sp.baseline.plot_baseline()"
     ]
    },
    {
     "cell_type": "code",
     "collapsed": false,
     "input": [
      "# Fit the NII lines and the Halpha line\n",
      "sp.plotter(xmin = xmin, xmax = xmax)\n",
      "\n",
      "sp.specfit(fittype = 'gaussian', multifit = True, guesses = guess, \\\n",
      "            tied = tied, limits = limits, limited = limited, \\\n",
      "            fit_plotted_area = True)"
     ],
     "language": "python",
     "metadata": {},
     "outputs": [
      {
       "output_type": "stream",
       "stream": "stdout",
       "text": [
        "Renormalizing data by factor 1.291897e-17 to improve fitting procedure\n"
       ]
      },
      {
       "ename": "ValueError",
       "evalue": "Set parameter value 1.2918972154121578e-34 < limit value 1e-18",
       "output_type": "pyerr",
       "traceback": [
        "\u001b[0;31m---------------------------------------------------------------------------\u001b[0m\n\u001b[0;31mValueError\u001b[0m                                Traceback (most recent call last)",
        "\u001b[0;32m<ipython-input-5-cef446073e38>\u001b[0m in \u001b[0;36m<module>\u001b[0;34m()\u001b[0m\n\u001b[1;32m      2\u001b[0m \u001b[0msp\u001b[0m\u001b[0;34m.\u001b[0m\u001b[0mplotter\u001b[0m\u001b[0;34m(\u001b[0m\u001b[0mxmin\u001b[0m \u001b[0;34m=\u001b[0m \u001b[0mxmin\u001b[0m\u001b[0;34m,\u001b[0m \u001b[0mxmax\u001b[0m \u001b[0;34m=\u001b[0m \u001b[0mxmax\u001b[0m\u001b[0;34m)\u001b[0m\u001b[0;34m\u001b[0m\u001b[0m\n\u001b[1;32m      3\u001b[0m \u001b[0;34m\u001b[0m\u001b[0m\n\u001b[0;32m----> 4\u001b[0;31m \u001b[0msp\u001b[0m\u001b[0;34m.\u001b[0m\u001b[0mspecfit\u001b[0m\u001b[0;34m(\u001b[0m\u001b[0mfittype\u001b[0m \u001b[0;34m=\u001b[0m \u001b[0;34m'gaussian'\u001b[0m\u001b[0;34m,\u001b[0m \u001b[0mmultifit\u001b[0m \u001b[0;34m=\u001b[0m \u001b[0mTrue\u001b[0m\u001b[0;34m,\u001b[0m \u001b[0mguesses\u001b[0m \u001b[0;34m=\u001b[0m \u001b[0mguess\u001b[0m\u001b[0;34m,\u001b[0m             \u001b[0mtied\u001b[0m \u001b[0;34m=\u001b[0m \u001b[0mtied\u001b[0m\u001b[0;34m,\u001b[0m \u001b[0mlimits\u001b[0m \u001b[0;34m=\u001b[0m \u001b[0mlimits\u001b[0m\u001b[0;34m,\u001b[0m \u001b[0mlimited\u001b[0m \u001b[0;34m=\u001b[0m \u001b[0mlimited\u001b[0m\u001b[0;34m,\u001b[0m             \u001b[0mfit_plotted_area\u001b[0m \u001b[0;34m=\u001b[0m \u001b[0mTrue\u001b[0m\u001b[0;34m)\u001b[0m\u001b[0;34m\u001b[0m\u001b[0m\n\u001b[0m",
        "\u001b[0;32m/Library/Python/2.7/site-packages/pyspeckit/config.pyc\u001b[0m in \u001b[0;36mdecorator\u001b[0;34m(self, *args, **kwargs)\u001b[0m\n\u001b[1;32m    135\u001b[0m             \u001b[0mnew_kwargs\u001b[0m\u001b[0;34m[\u001b[0m\u001b[0marg\u001b[0m\u001b[0;34m]\u001b[0m \u001b[0;34m=\u001b[0m \u001b[0mkwargs\u001b[0m\u001b[0;34m[\u001b[0m\u001b[0marg\u001b[0m\u001b[0;34m]\u001b[0m\u001b[0;34m\u001b[0m\u001b[0m\n\u001b[1;32m    136\u001b[0m \u001b[0;34m\u001b[0m\u001b[0m\n\u001b[0;32m--> 137\u001b[0;31m         \u001b[0mf\u001b[0m\u001b[0;34m(\u001b[0m\u001b[0mself\u001b[0m\u001b[0;34m,\u001b[0m \u001b[0;34m*\u001b[0m\u001b[0margs\u001b[0m\u001b[0;34m,\u001b[0m \u001b[0;34m**\u001b[0m\u001b[0mnew_kwargs\u001b[0m\u001b[0;34m)\u001b[0m\u001b[0;34m\u001b[0m\u001b[0m\n\u001b[0m\u001b[1;32m    138\u001b[0m \u001b[0;34m\u001b[0m\u001b[0m\n\u001b[1;32m    139\u001b[0m     \u001b[0;31m# documentation should be passed on, else sphinx doesn't work and the user can't access the docs\u001b[0m\u001b[0;34m\u001b[0m\u001b[0;34m\u001b[0m\u001b[0m\n",
        "\u001b[0;32m/Library/Python/2.7/site-packages/pyspeckit/spectrum/fitters.pyc\u001b[0m in \u001b[0;36m__call__\u001b[0;34m(self, interactive, multifit, usemoments, clear_all_connections, debug, guesses, save, annotate, show_components, use_lmfit, verbose, clear, fit_plotted_area, use_window_limits, vheight, exclude, **kwargs)\u001b[0m\n\u001b[1;32m    268\u001b[0m                 self.multifit(show_components=show_components, verbose=verbose,\n\u001b[1;32m    269\u001b[0m                         \u001b[0mdebug\u001b[0m\u001b[0;34m=\u001b[0m\u001b[0mdebug\u001b[0m\u001b[0;34m,\u001b[0m \u001b[0muse_lmfit\u001b[0m\u001b[0;34m=\u001b[0m\u001b[0muse_lmfit\u001b[0m\u001b[0;34m,\u001b[0m \u001b[0mannotate\u001b[0m\u001b[0;34m=\u001b[0m\u001b[0mannotate\u001b[0m\u001b[0;34m,\u001b[0m\u001b[0;34m\u001b[0m\u001b[0m\n\u001b[0;32m--> 270\u001b[0;31m                         **kwargs)\n\u001b[0m\u001b[1;32m    271\u001b[0m         \u001b[0;31m# SINGLEFITTERS SHOULD BE PHASED OUT\u001b[0m\u001b[0;34m\u001b[0m\u001b[0;34m\u001b[0m\u001b[0m\n\u001b[1;32m    272\u001b[0m         \u001b[0;32melif\u001b[0m \u001b[0mself\u001b[0m\u001b[0;34m.\u001b[0m\u001b[0mfittype\u001b[0m \u001b[0;32min\u001b[0m \u001b[0mself\u001b[0m\u001b[0;34m.\u001b[0m\u001b[0mRegistry\u001b[0m\u001b[0;34m.\u001b[0m\u001b[0msinglefitters\u001b[0m\u001b[0;34m:\u001b[0m\u001b[0;34m\u001b[0m\u001b[0m\n",
        "\u001b[0;32m/Library/Python/2.7/site-packages/pyspeckit/spectrum/fitters.pyc\u001b[0m in \u001b[0;36mmultifit\u001b[0;34m(self, fittype, renormalize, annotate, show_components, verbose, color, use_window_limits, use_lmfit, plot, **kwargs)\u001b[0m\n\u001b[1;32m    535\u001b[0m         \u001b[0;32mfor\u001b[0m \u001b[0mpar\u001b[0m \u001b[0;32min\u001b[0m \u001b[0mself\u001b[0m\u001b[0;34m.\u001b[0m\u001b[0mparinfo\u001b[0m\u001b[0;34m:\u001b[0m\u001b[0;34m\u001b[0m\u001b[0m\n\u001b[1;32m    536\u001b[0m             \u001b[0;32mif\u001b[0m \u001b[0mpar\u001b[0m\u001b[0;34m.\u001b[0m\u001b[0mscaleable\u001b[0m\u001b[0;34m:\u001b[0m\u001b[0;34m\u001b[0m\u001b[0m\n\u001b[0;32m--> 537\u001b[0;31m                 \u001b[0mpar\u001b[0m\u001b[0;34m.\u001b[0m\u001b[0mvalue\u001b[0m \u001b[0;34m=\u001b[0m \u001b[0mpar\u001b[0m\u001b[0;34m.\u001b[0m\u001b[0mvalue\u001b[0m \u001b[0;34m*\u001b[0m \u001b[0mscalefactor\u001b[0m\u001b[0;34m\u001b[0m\u001b[0m\n\u001b[0m\u001b[1;32m    538\u001b[0m                 \u001b[0mpar\u001b[0m\u001b[0;34m.\u001b[0m\u001b[0merror\u001b[0m \u001b[0;34m=\u001b[0m \u001b[0mpar\u001b[0m\u001b[0;34m.\u001b[0m\u001b[0merror\u001b[0m \u001b[0;34m*\u001b[0m \u001b[0mscalefactor\u001b[0m\u001b[0;34m\u001b[0m\u001b[0m\n\u001b[1;32m    539\u001b[0m \u001b[0;34m\u001b[0m\u001b[0m\n",
        "\u001b[0;32m/Library/Python/2.7/site-packages/pyspeckit/spectrum/parinfo.pyc\u001b[0m in \u001b[0;36m__setattr__\u001b[0;34m(self, key, value)\u001b[0m\n\u001b[1;32m    332\u001b[0m         \u001b[0;31m# DEBUG print \"Setting attribute %s = %s\" % (key,value)\u001b[0m\u001b[0;34m\u001b[0m\u001b[0;34m\u001b[0m\u001b[0m\n\u001b[1;32m    333\u001b[0m \u001b[0;34m\u001b[0m\u001b[0m\n\u001b[0;32m--> 334\u001b[0;31m         \u001b[0mself\u001b[0m\u001b[0;34m.\u001b[0m\u001b[0m_check_OK\u001b[0m\u001b[0;34m(\u001b[0m\u001b[0mkey\u001b[0m\u001b[0;34m,\u001b[0m\u001b[0mvalue\u001b[0m\u001b[0;34m)\u001b[0m\u001b[0;34m\u001b[0m\u001b[0m\n\u001b[0m\u001b[1;32m    335\u001b[0m \u001b[0;34m\u001b[0m\u001b[0m\n\u001b[1;32m    336\u001b[0m         \u001b[0;32mreturn\u001b[0m \u001b[0msuper\u001b[0m\u001b[0;34m(\u001b[0m\u001b[0mParinfo\u001b[0m\u001b[0;34m,\u001b[0m \u001b[0mself\u001b[0m\u001b[0;34m)\u001b[0m\u001b[0;34m.\u001b[0m\u001b[0m__setattr__\u001b[0m\u001b[0;34m(\u001b[0m\u001b[0mkey\u001b[0m\u001b[0;34m,\u001b[0m \u001b[0mvalue\u001b[0m\u001b[0;34m)\u001b[0m\u001b[0;34m\u001b[0m\u001b[0m\n",
        "\u001b[0;32m/Library/Python/2.7/site-packages/pyspeckit/spectrum/parinfo.pyc\u001b[0m in \u001b[0;36m_check_OK\u001b[0;34m(self, key, value)\u001b[0m\n\u001b[1;32m    348\u001b[0m             \u001b[0;32mif\u001b[0m \u001b[0mhasattr\u001b[0m\u001b[0;34m(\u001b[0m\u001b[0mself\u001b[0m\u001b[0;34m,\u001b[0m\u001b[0;34m'limited'\u001b[0m\u001b[0;34m)\u001b[0m \u001b[0;32mand\u001b[0m \u001b[0mhasattr\u001b[0m\u001b[0;34m(\u001b[0m\u001b[0mself\u001b[0m\u001b[0;34m,\u001b[0m\u001b[0;34m'limits'\u001b[0m\u001b[0;34m)\u001b[0m\u001b[0;34m:\u001b[0m\u001b[0;34m\u001b[0m\u001b[0m\n\u001b[1;32m    349\u001b[0m                 \u001b[0;32mif\u001b[0m \u001b[0mself\u001b[0m\u001b[0;34m.\u001b[0m\u001b[0mlimited\u001b[0m\u001b[0;34m[\u001b[0m\u001b[0;36m0\u001b[0m\u001b[0;34m]\u001b[0m \u001b[0;32mand\u001b[0m \u001b[0mvalue\u001b[0m \u001b[0;34m<\u001b[0m \u001b[0mself\u001b[0m\u001b[0;34m.\u001b[0m\u001b[0mlimits\u001b[0m\u001b[0;34m[\u001b[0m\u001b[0;36m0\u001b[0m\u001b[0;34m]\u001b[0m\u001b[0;34m:\u001b[0m\u001b[0;34m\u001b[0m\u001b[0m\n\u001b[0;32m--> 350\u001b[0;31m                     \u001b[0;32mraise\u001b[0m \u001b[0mValueError\u001b[0m\u001b[0;34m(\u001b[0m\u001b[0;34m'Set parameter value %r < limit value %r'\u001b[0m \u001b[0;34m%\u001b[0m \u001b[0;34m(\u001b[0m\u001b[0mvalue\u001b[0m\u001b[0;34m,\u001b[0m\u001b[0mself\u001b[0m\u001b[0;34m.\u001b[0m\u001b[0mlimits\u001b[0m\u001b[0;34m[\u001b[0m\u001b[0;36m0\u001b[0m\u001b[0;34m]\u001b[0m\u001b[0;34m)\u001b[0m\u001b[0;34m)\u001b[0m\u001b[0;34m\u001b[0m\u001b[0m\n\u001b[0m\u001b[1;32m    351\u001b[0m                 \u001b[0;32mif\u001b[0m \u001b[0mself\u001b[0m\u001b[0;34m.\u001b[0m\u001b[0mlimited\u001b[0m\u001b[0;34m[\u001b[0m\u001b[0;36m1\u001b[0m\u001b[0;34m]\u001b[0m \u001b[0;32mand\u001b[0m \u001b[0mvalue\u001b[0m \u001b[0;34m>\u001b[0m \u001b[0mself\u001b[0m\u001b[0;34m.\u001b[0m\u001b[0mlimits\u001b[0m\u001b[0;34m[\u001b[0m\u001b[0;36m1\u001b[0m\u001b[0;34m]\u001b[0m\u001b[0;34m:\u001b[0m\u001b[0;34m\u001b[0m\u001b[0m\n\u001b[1;32m    352\u001b[0m                     \u001b[0;32mraise\u001b[0m \u001b[0mValueError\u001b[0m\u001b[0;34m(\u001b[0m\u001b[0;34m'Set parameter value %r > limit value %r'\u001b[0m \u001b[0;34m%\u001b[0m \u001b[0;34m(\u001b[0m\u001b[0mvalue\u001b[0m\u001b[0;34m,\u001b[0m\u001b[0mself\u001b[0m\u001b[0;34m.\u001b[0m\u001b[0mlimits\u001b[0m\u001b[0;34m[\u001b[0m\u001b[0;36m1\u001b[0m\u001b[0;34m]\u001b[0m\u001b[0;34m)\u001b[0m\u001b[0;34m)\u001b[0m\u001b[0;34m\u001b[0m\u001b[0m\n",
        "\u001b[0;31mValueError\u001b[0m: Set parameter value 1.2918972154121578e-34 < limit value 1e-18"
       ]
      }
     ],
     "prompt_number": 5
    },
    {
     "cell_type": "code",
     "collapsed": false,
     "input": [
      "sp.measure()"
     ],
     "language": "python",
     "metadata": {},
     "outputs": [],
     "prompt_number": 8
    },
    {
     "cell_type": "code",
     "collapsed": false,
     "input": [
      "for line in sp.measurements.lines.keys():\n",
      "    print line, sp.measurements.lines[line]['pos'].round(2), sp.measurements.lines[line]['flux'].round(1), \\\n",
      "    sp.measurements.lines[line]['amp'].round(1), sp.measurements.lines[line]['fwhm'].round(1)\n",
      "        "
     ],
     "language": "python",
     "metadata": {},
     "outputs": [
      {
       "output_type": "stream",
       "stream": "stdout",
       "text": [
        "NIIa 6551.03 0.0 0.0 7.2\n",
        "NIIb 6585.36 0.0 0.0 7.2\n",
        "unknown_1 6735.0 0.0 0.0 7.2\n",
        "H_3-2 6565.0 0.0 0.0 81.0\n",
        "SIIa 6720.0 0.0 0.0 7.2\n",
        "H_alpha 6564.23 0.0 0.0 7.2\n"
       ]
      }
     ],
     "prompt_number": 9
    },
    {
     "cell_type": "markdown",
     "metadata": {},
     "source": [
      "FWHM are output in Angstroms. \n",
      "\n",
      "One measurement of the H-beta FWHM for sdss2257m0020 was 84.3 A --> That corresponds to 5197. km/s. \n",
      "\n",
      "After including the narrow H-beta component, I find 98.7 A for the broad line --> 6085. km/s\n",
      "\n",
      "First measure of the H-alpha FWHM broad line is 77.1 A --> 3520. km/s\n",
      "\n",
      "Include SII lines and we get H-alpha FWHM 76.9 A --> 3512. km/s "
     ]
    },
    {
     "cell_type": "markdown",
     "metadata": {},
     "source": [
      "# Results\n",
      "\n",
      "Halph FWHM for 2153p1054 = 81.0 A --> 3699 km/s"
     ]
    },
    {
     "cell_type": "code",
     "collapsed": false,
     "input": [],
     "language": "python",
     "metadata": {},
     "outputs": []
    }
   ],
   "metadata": {}
  }
 ]
}