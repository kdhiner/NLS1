{
 "metadata": {
  "name": "Line Measurements"
 },
 "nbformat": 3,
 "nbformat_minor": 0,
 "worksheets": [
  {
   "cells": [
    {
     "cell_type": "markdown",
     "metadata": {},
     "source": [
      "# Line Measurements\n",
      "\n",
      "This notebook will be used to measure the emission lines of the NLS1 sample and to make relevant plots.\n",
      "\n",
      "\n",
      "Note: the pyspeckit plotter routine does not function well when plots are shown inline. In particular, the plotter.refresh() feature does not work. So, start the notebook server from command line with $ipython notebook --pylab & "
     ]
    },
    {
     "cell_type": "code",
     "collapsed": false,
     "input": [
      "import numpy as np \n",
      "import pyspeckit as pspec \n",
      "from pyspeckit import spectrum as spec\n",
      "from matplotlib import pyplot as plt"
     ],
     "language": "python",
     "metadata": {},
     "outputs": [],
     "prompt_number": 1
    },
    {
     "cell_type": "code",
     "collapsed": false,
     "input": [
      "pre = '/Users/Kyle/NLS1/spectro/magellan14b/'\n",
      "post = '_z.fits'\n",
      "\n",
      "sp = spec.Spectrum(pre+'sdss2257m0020'+post)"
     ],
     "language": "python",
     "metadata": {},
     "outputs": [
      {
       "output_type": "stream",
       "stream": "stderr",
       "text": [
        "The ascard function is deprecated and may be removed in a future version.\n",
        "        Use the `.cards` attribute instead.\n",
        "The CardList class has been deprecated; all its former functionality has been subsumed by the Header class, so CardList objects should not be directly created.  See the PyFITS 3.1.0 CHANGELOG for more details.\n",
        "The use of header.update() to add new keywords to a header is deprecated.  Instead, use either header.set() or simply `header[keyword] = value` or `header[keyword] = (value, comment)`.  header.set() is only necessary to use if you also want to use the before/after keyword arguments.\n",
        "Warning: No reference frequency found.  Velocity transformations will not be possible unless you set a reference frequency/wavelength\n"
       ]
      }
     ],
     "prompt_number": 2
    },
    {
     "cell_type": "code",
     "collapsed": false,
     "input": [
      "sp.plotter()"
     ],
     "language": "python",
     "metadata": {},
     "outputs": [],
     "prompt_number": 4
    },
    {
     "cell_type": "code",
     "collapsed": false,
     "input": [
      "# Fit and remove the continuum \n",
      "\n",
      "ex_regions = [0, 4500, 4780, 5030, 5090, 5131, 5760, 5800, 6207, 6278, 6436, 6750, 7100, 7200]\n",
      "\n",
      "sp.baseline(exclude = ex_regions, order = 1, highlight_fitregion = True)"
     ],
     "language": "python",
     "metadata": {},
     "outputs": [
      {
       "output_type": "stream",
       "stream": "stderr",
       "text": [
        "`rank` is deprecated; use the `ndim` attribute or function instead. To find the rank of a matrix see `numpy.linalg.matrix_rank`.\n"
       ]
      }
     ],
     "prompt_number": 5
    },
    {
     "cell_type": "code",
     "collapsed": false,
     "input": [
      "sp.baseline.unsubtract()\n",
      "sp.baseline.plot_baseline()"
     ],
     "language": "python",
     "metadata": {},
     "outputs": [],
     "prompt_number": 38
    },
    {
     "cell_type": "code",
     "collapsed": false,
     "input": [
      "# Define the initial parameters for line\n",
      "Hb = 4861.\n",
      "OIIIa = 4960.\n",
      "OIIIb = 5007.\n",
      "\n",
      "T, F = True, False\n",
      "\n",
      "# Define the initial guesses\n",
      "guess = [1e-16, OIIIa, 20., \\\n",
      "         5e-16, OIIIb, 20., \\\n",
      "         1e-16, Hb, 100., \\\n",
      "         1e-16, Hb, 10.]\n",
      "tied = ['', '', 'p[5]', \\\n",
      "        '','','', \\\n",
      "        '','','', \\\n",
      "        '','','p[5]']\n",
      "limits = [(0.1 * guess[0], 100.), (OIIIa - 2., OIIIa + 2.), (0., 100.), \\\n",
      "            (0.1 * guess[3], 100.), (OIIIb - 2., OIIIb + 2), (0., 100.), \\\n",
      "            (0.1 * guess[6], 100.), (Hb - 2., Hb + 2.), (10., 100.), \\\n",
      "            (0.1 * guess[9], 100.), (Hb - 2., Hb + 2.), (0., 10.)]\n",
      "limited = [(T, F), (T, T), (F, T), \\\n",
      "            (T, F), (T, T), (F, T), \\\n",
      "            (T, F), (T, T), (T, F), \\\n",
      "            (F, F), (T, T), (F, T)]"
     ],
     "language": "python",
     "metadata": {},
     "outputs": [],
     "prompt_number": 19
    },
    {
     "cell_type": "code",
     "collapsed": false,
     "input": [
      "# Fit the OIII line and the Hbeta line\n",
      "sp.plotter(xmin = 4500, xmax = 5100)\n",
      "sp.specfit(fittype = 'gaussian', multifit = True, guesses = guess, \\\n",
      "            tied = tied, limits = limits, limited = limited, fit_plotted_area = True)"
     ],
     "language": "python",
     "metadata": {},
     "outputs": [
      {
       "output_type": "stream",
       "stream": "stdout",
       "text": [
        "Renormalizing data by factor 1.232528e-17 to improve fitting procedure\n"
       ]
      },
      {
       "output_type": "stream",
       "stream": "stderr",
       "text": [
        "`rank` is deprecated; use the `ndim` attribute or function instead. To find the rank of a matrix see `numpy.linalg.matrix_rank`.\n"
       ]
      }
     ],
     "prompt_number": 20
    },
    {
     "cell_type": "code",
     "collapsed": false,
     "input": [
      "sp.measure()"
     ],
     "language": "python",
     "metadata": {},
     "outputs": [],
     "prompt_number": 21
    },
    {
     "cell_type": "code",
     "collapsed": false,
     "input": [
      "for line in sp.measurements.lines.keys():\n",
      "    print line, sp.measurements.lines[line]['pos'].round(2), sp.measurements.lines[line]['flux'].round(1), \\\n",
      "    sp.measurements.lines[line]['amp'].round(1), sp.measurements.lines[line]['fwhm'].round(1)\n",
      "        "
     ],
     "language": "python",
     "metadata": {},
     "outputs": [
      {
       "output_type": "stream",
       "stream": "stdout",
       "text": [
        "H_4-2_1 4863.0 0.0 0.0 7.0\n",
        "H_4-2 4863.0 0.0 0.0 98.7\n",
        "OIIIa 4961.08 0.0 0.0 7.0\n",
        "OIIIb 5008.81 0.0 0.0 7.0\n"
       ]
      }
     ],
     "prompt_number": 22
    },
    {
     "cell_type": "markdown",
     "metadata": {},
     "source": [
      "FWHM are output in Angstroms. \n",
      "\n",
      "One measurement of the H-beta FWHM for sdss2257m0020 was 84.3 A --> That corresponds to 5197. km/s. \n",
      "\n",
      "After including the narrow H-beta component, I find 98.7 A for the broad line --> 6085. km/s"
     ]
    },
    {
     "cell_type": "code",
     "collapsed": false,
     "input": [
      "y = sp.plotter.ymax * 0.85    # Location of annotations in y\n",
      "\n",
      "for i, line in enumerate(sp.measurements.lines.keys()):\n",
      "    \n",
      "    if line not in sp.speclines.optical.lines.keys(): continue\n",
      "        \n",
      "    x = sp.measurements.lines[line]['modelpars'][1]\n",
      "    sp.plotter.axis.plot([x]*2, [sp.plotter.ymin, sp.plotter.ymax], ls = '--', \\\n",
      "        color = 'k')\n",
      "    sp.plotter.axis.annotate(sp.speclines.optical.lines[line][-1], (x, y), \\\n",
      "        rotation = 90, ha = 'right', va = 'center')"
     ],
     "language": "python",
     "metadata": {},
     "outputs": [],
     "prompt_number": 46
    },
    {
     "cell_type": "code",
     "collapsed": false,
     "input": [
      "sp.plotter.refresh()"
     ],
     "language": "python",
     "metadata": {},
     "outputs": [],
     "prompt_number": 47
    },
    {
     "cell_type": "code",
     "collapsed": false,
     "input": [],
     "language": "python",
     "metadata": {},
     "outputs": [],
     "prompt_number": 162
    }
   ],
   "metadata": {}
  }
 ]
}