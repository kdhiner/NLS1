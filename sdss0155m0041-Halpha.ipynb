{
 "metadata": {
  "name": "",
  "signature": "sha256:0ae81d9127c9c44d55238254a6ba204f022f1001b74f79853922fd3735a81bb3"
 },
 "nbformat": 3,
 "nbformat_minor": 0,
 "worksheets": [
  {
   "cells": [
    {
     "cell_type": "markdown",
     "metadata": {},
     "source": [
      "# Line Measurements\n",
      "\n",
      "This notebook is a copy of the Line Measurements notebook and is specifically tooled to the H alpha profile\n",
      "\n",
      "Note: the pyspeckit plotter routine does not function well when plots are shown inline. In particular, the plotter.refresh() feature does not work. So, start the notebook server from command line with $ipython notebook --pylab & "
     ]
    },
    {
     "cell_type": "markdown",
     "metadata": {},
     "source": [
      "#Generalization\n",
      "\n",
      "I want to generalize this notebook so that it will work with any of the spectra that I feed it. \n",
      "\n",
      "To reproduce first good fit that I obtained, must run once, crash, reinitialize parameters, run again."
     ]
    },
    {
     "cell_type": "code",
     "collapsed": false,
     "input": [
      "import numpy as np \n",
      "import pyspeckit as pspec \n",
      "from pyspeckit import spectrum as spec\n",
      "from matplotlib import pyplot as plt"
     ],
     "language": "python",
     "metadata": {},
     "outputs": [],
     "prompt_number": 1
    },
    {
     "cell_type": "code",
     "collapsed": false,
     "input": [
      "# Define the file directory where the data are located\n",
      "pre = '/Users/Kyle/NLS1/spectro/magellan14b/'\n",
      "post = '_z.fits'\n",
      "\n",
      "# Define region for H-alpha plotting\n",
      "xmin = 6200.\n",
      "xmax = 7000.\n",
      "\n",
      "# Define the regions for the continuum fitting\n",
      "ex_regions = [0, 4322, 4770, 5035, 5390, 5440, 5550, 5600, \\\n",
      "              5965, 6060, 6200, 6245, 6425, 6760, 6840, 7500]\n",
      "    \n",
      "# Define the initial parameters for line\n",
      "Ha = 6563.\n",
      "NIIa = 6550.\n",
      "NIIb = 6586.\n",
      "SIIa = 6718.\n",
      "SIIb = 6733.\n",
      "\n",
      "T, F = True, False\n",
      "\n",
      "# Define the initial guesses\n",
      "guess = [0.5e-16, NIIa, 10., \\\n",
      "        2e-16, NIIb, 10., \\\n",
      "        1e-16, Ha, 10., \\\n",
      "        0.5e-16, Ha, 50., \\\n",
      "        0.2e-16, SIIa, 10., \\\n",
      "        0.2e-16, SIIb, 10., \\\n",
      "        -2e-16, Ha, 10.]\n",
      "    \n",
      "# Define which parameters are constrained to each other\n",
      "tied = ['', '', 'p[17]', \\\n",
      "        '', '', 'p[17]', \\\n",
      "        '', '', 'p[17]', \\\n",
      "        '', '', '', \\\n",
      "        '', '', 'p[17]', \\\n",
      "        '', '', '', \\\n",
      "        '', '', '']\n",
      "    \n",
      "# Define the limits on each parameter\n",
      "limits = [(0.1 * guess[0], 100.), (NIIa - 2., NIIa + 2.), (0., 100.), \\\n",
      "        (0.1 * guess[3], 100.), (NIIb - 2., NIIb + 2.), (0., 100.), \\\n",
      "        (0.1 * guess[6], 100.), (Ha - 5., Ha + 5.), (0., 100.), \\\n",
      "        (0.1 * guess[9], 100.), (Ha - 5., Ha + 5.), (10., 100.),\n",
      "        (0.1 * guess[12], 100.), (SIIa - 2., SIIa + 2.), (0., 100.), \\\n",
      "        (0.1 * guess[15], 100.), (SIIb - 2., SIIb + 2.), (0., 100.), \\\n",
      "        (0.1 * guess[18], 100.), (Ha - 5., Ha + 5.), (0., 100.)]\n",
      "    \n",
      "# State whether the limit should be enforced\n",
      "limited = [(F, F), (T, T), (F, T), \\\n",
      "        (F, F), (T, T), (F, T), \\\n",
      "        (F, F), (T, T), (F, T), \\\n",
      "        (F, F), (T, T), (T, F), \\\n",
      "        (F, F), (T, T), (F, T), \\\n",
      "        (F, F), (T, T), (F, T), \\\n",
      "        (F, F), (T, T), (F, T)]"
     ],
     "language": "python",
     "metadata": {},
     "outputs": [],
     "prompt_number": 12
    },
    {
     "cell_type": "code",
     "collapsed": false,
     "input": [
      "sp = spec.Spectrum(pre + 'sdss0155m0041' + post)\n",
      "sp.plotter()"
     ],
     "language": "python",
     "metadata": {},
     "outputs": [
      {
       "output_type": "stream",
       "stream": "stderr",
       "text": [
        "The ascard function is deprecated and may be removed in a future version.\n",
        "        Use the `.cards` attribute instead.\n",
        "The CardList class has been deprecated; all its former functionality has been subsumed by the Header class, so CardList objects should not be directly created.  See the PyFITS 3.1.0 CHANGELOG for more details.\n",
        "The use of header.update() to add new keywords to a header is deprecated.  Instead, use either header.set() or simply `header[keyword] = value` or `header[keyword] = (value, comment)`.  header.set() is only necessary to use if you also want to use the before/after keyword arguments.\n",
        "Warning: No reference frequency found.  Velocity transformations will not be possible unless you set a reference frequency/wavelength\n"
       ]
      }
     ],
     "prompt_number": 3
    },
    {
     "cell_type": "code",
     "collapsed": false,
     "input": [
      "# Fit and remove the continuum \n",
      "\n",
      "sp.baseline(exclude = ex_regions, order = 3, highlight_fitregion = True)"
     ],
     "language": "python",
     "metadata": {},
     "outputs": [
      {
       "output_type": "stream",
       "stream": "stderr",
       "text": [
        "invalid value encountered in subtract\n",
        "`rank` is deprecated; use the `ndim` attribute or function instead. To find the rank of a matrix see `numpy.linalg.matrix_rank`.\n"
       ]
      }
     ],
     "prompt_number": 4
    },
    {
     "cell_type": "markdown",
     "metadata": {},
     "source": [
      "sp.baseline.unsubtract()\n",
      "sp.baseline.plot_baseline()"
     ]
    },
    {
     "cell_type": "code",
     "collapsed": false,
     "input": [
      "# Fit the NII lines and the Halpha line\n",
      "sp.plotter(xmin = xmin, xmax = xmax)\n",
      "\n",
      "sp.specfit(fittype = 'gaussian', multifit = True, guesses = guess, \\\n",
      "            tied = tied, limits = limits, limited = limited, \\\n",
      "            fit_plotted_area = True)"
     ],
     "language": "python",
     "metadata": {},
     "outputs": [
      {
       "output_type": "stream",
       "stream": "stdout",
       "text": [
        "Renormalizing data by factor 1.051762e-17 to improve fitting procedure\n"
       ]
      }
     ],
     "prompt_number": 13
    },
    {
     "cell_type": "code",
     "collapsed": false,
     "input": [
      "sp.measure()"
     ],
     "language": "python",
     "metadata": {},
     "outputs": [],
     "prompt_number": 14
    },
    {
     "cell_type": "code",
     "collapsed": false,
     "input": [
      "for line in sp.measurements.lines.keys():\n",
      "    print line, sp.measurements.lines[line]['pos'].round(2), sp.measurements.lines[line]['flux'].round(1), \\\n",
      "    sp.measurements.lines[line]['amp'].round(1), sp.measurements.lines[line]['fwhm'].round(1)\n",
      "        "
     ],
     "language": "python",
     "metadata": {},
     "outputs": [
      {
       "output_type": "stream",
       "stream": "stdout",
       "text": [
        "unknown_2 6562.15 -0.0 -0.0 11.3\n",
        "unknown_3 6716.0 0.0 0.0 26.9\n",
        "NIIb 6584.0 -0.0 -0.0 26.9\n",
        "unknown_1 6560.07 0.0 0.0 90.6\n",
        "H_3-2 6566.33 0.0 0.0 26.9\n",
        "SIIb 6731.0 -0.0 -0.0 26.9\n",
        "NIIa 6548.0 0.0 0.0 26.9\n"
       ]
      }
     ],
     "prompt_number": 15
    },
    {
     "cell_type": "markdown",
     "metadata": {},
     "source": [
      "FWHM are output in Angstroms. \n",
      "\n",
      "One measurement of the H-beta FWHM for sdss2257m0020 was 84.3 A --> That corresponds to 5197. km/s. \n",
      "\n",
      "After including the narrow H-beta component, I find 98.7 A for the broad line --> 6085. km/s\n",
      "\n",
      "First measure of the H-alpha FWHM broad line is 77.1 A --> 3520. km/s\n",
      "\n",
      "Include SII lines and we get H-alpha FWHM 76.9 A --> 3512. km/s "
     ]
    },
    {
     "cell_type": "markdown",
     "metadata": {},
     "source": [
      "# Results\n",
      "\n",
      "Halph FWHM for 0028m1039 = 90.6 A --> 4140 km/s"
     ]
    },
    {
     "cell_type": "code",
     "collapsed": false,
     "input": [],
     "language": "python",
     "metadata": {},
     "outputs": []
    }
   ],
   "metadata": {}
  }
 ]
}