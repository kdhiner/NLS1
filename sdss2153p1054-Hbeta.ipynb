{
 "metadata": {
  "name": "",
  "signature": "sha256:d2a6b6bf6401d2871beefd14f7a8c90b0032d3220a655e05ff10867b5c160220"
 },
 "nbformat": 3,
 "nbformat_minor": 0,
 "worksheets": [
  {
   "cells": [
    {
     "cell_type": "markdown",
     "metadata": {},
     "source": [
      "# Line Measurements\n",
      "\n",
      "This notebook is a copy of the Line Measurements notebook and is specifically tooled to the H alpha profile\n",
      "\n",
      "Note: the pyspeckit plotter routine does not function well when plots are shown inline. In particular, the plotter.refresh() feature does not work. So, start the notebook server from command line with $ipython notebook --pylab & "
     ]
    },
    {
     "cell_type": "markdown",
     "metadata": {},
     "source": [
      "#Generalization\n",
      "\n",
      "I want to generalize this notebook so that it will work with any of the spectra that I feed it. \n",
      "\n",
      "To reproduce first good fit that I obtained, must run once, crash, reinitialize parameters, run again."
     ]
    },
    {
     "cell_type": "code",
     "collapsed": false,
     "input": [
      "import numpy as np \n",
      "import pyspeckit as pspec \n",
      "from pyspeckit import spectrum as spec\n",
      "from matplotlib import pyplot as plt"
     ],
     "language": "python",
     "metadata": {},
     "outputs": [],
     "prompt_number": 1
    },
    {
     "cell_type": "code",
     "collapsed": false,
     "input": [
      "# Define the file directory where the data are located\n",
      "pre = '/Users/Kyle/NLS1/spectro/magellan14b/'\n",
      "post = '_z.fits'\n",
      "\n",
      "# Define region for H-alpha plotting\n",
      "xmin = 4700.\n",
      "xmax = 5200.\n",
      "\n",
      "# Define the regions for the continuum fitting\n",
      "ex_regions = [0, 4535, 4770, 5030, 5100, 5150, 5260, 5305, \\\n",
      "              5735, 5775, 5825, 5910, 6370, 6760, 6990, 7500]\n",
      "\n",
      "# Define the initial parameters for line\n",
      "Hb = 4861\n",
      "OIIIa = 4959\n",
      "OIIIb = 5007\n",
      "\n",
      "T, F = True, False\n",
      "\n",
      "# Define the initial guesses\n",
      "guess = [2e-16, OIIIa, 10., \\\n",
      "        3e-16, OIIIb, 10., \\\n",
      "        3e-16, Hb, 10., \\\n",
      "        1e-16, Hb, 50.]\n",
      "    \n",
      "# Define which parameters are constrained to each other\n",
      "tied = ['', '', 'p[5]', \\\n",
      "        '', '', '', \\\n",
      "        '', '', 'p[5]', \\\n",
      "        '', '', '']\n",
      "    \n",
      "# Define the limits on each parameter\n",
      "limits = [(0.1 * guess[0], 100.), (OIIIa - 2., OIIIa + 2.), (0., 100.), \\\n",
      "        (0.1 * guess[3], 100.), (OIIIb - 2., OIIIb + 2.), (0., 100.), \\\n",
      "        (0.0 * guess[6], 100.), (Hb - 2., Hb + 2.), (0., 100.), \\\n",
      "        (0.1 * guess[9], 100.), (Hb - 2., Hb + 2.), (10., 100.)]\n",
      "    \n",
      "# State whether the limit should be enforced\n",
      "limited = [(T, F), (T, T), (F, T), \\\n",
      "        (T, F), (T, T), (F, T), \\\n",
      "        (T, F), (T, T), (F, T), \\\n",
      "        (T, F), (T, T), (T, F)]"
     ],
     "language": "python",
     "metadata": {},
     "outputs": [],
     "prompt_number": 9
    },
    {
     "cell_type": "code",
     "collapsed": false,
     "input": [
      "sp = spec.Spectrum(pre + 'sdss2153p1054' + post)\n",
      "fig = plt.figure(figsize = (12, 10))\n",
      "ax = fig.add_subplot(111)\n",
      "\n",
      "for axis in ['top','bottom','left','right']:\n",
      "    ax.spines[axis].set_linewidth(2)\n",
      "    \n",
      "for item in ([ax.title, ax.xaxis.label, ax.yaxis.label] +\n",
      "             ax.get_xticklabels() + ax.get_yticklabels()):\n",
      "    item.set_fontsize(20)\n",
      "\n",
      "sp.plotter(figure = fig)"
     ],
     "language": "python",
     "metadata": {},
     "outputs": [
      {
       "output_type": "stream",
       "stream": "stderr",
       "text": [
        "The ascard function is deprecated and may be removed in a future version.\n",
        "        Use the `.cards` attribute instead.\n",
        "The CardList class has been deprecated; all its former functionality has been subsumed by the Header class, so CardList objects should not be directly created.  See the PyFITS 3.1.0 CHANGELOG for more details.\n",
        "The use of header.update() to add new keywords to a header is deprecated.  Instead, use either header.set() or simply `header[keyword] = value` or `header[keyword] = (value, comment)`.  header.set() is only necessary to use if you also want to use the before/after keyword arguments.\n",
        "Warning: No reference frequency found.  Velocity transformations will not be possible unless you set a reference frequency/wavelength\n"
       ]
      }
     ],
     "prompt_number": 4
    },
    {
     "cell_type": "code",
     "collapsed": false,
     "input": [
      "# Fit and remove the continuum \n",
      "\n",
      "sp.baseline(exclude = ex_regions, order = 5, highlight_fitregion = True)"
     ],
     "language": "python",
     "metadata": {},
     "outputs": [
      {
       "output_type": "stream",
       "stream": "stderr",
       "text": [
        "`rank` is deprecated; use the `ndim` attribute or function instead. To find the rank of a matrix see `numpy.linalg.matrix_rank`.\n",
        "invalid value encountered in subtract\n"
       ]
      }
     ],
     "prompt_number": 5
    },
    {
     "cell_type": "markdown",
     "metadata": {},
     "source": [
      "sp.baseline.unsubtract()\n",
      "sp.baseline.plot_baseline()"
     ]
    },
    {
     "cell_type": "code",
     "collapsed": false,
     "input": [
      "# Fit the OIII lines and the Hbeta line\n",
      "sp.plotter(xmin = xmin, xmax = xmax)\n",
      "\n",
      "sp.specfit(fittype = 'gaussian', multifit = True, guesses = guess, \\\n",
      "            tied = tied, limits = limits, limited = limited, \\\n",
      "            fit_plotted_area = True)"
     ],
     "language": "python",
     "metadata": {},
     "outputs": [
      {
       "output_type": "stream",
       "stream": "stdout",
       "text": [
        "Renormalizing data by factor 1.057054e-17 to improve fitting procedure\n"
       ]
      }
     ],
     "prompt_number": 10
    },
    {
     "cell_type": "code",
     "collapsed": false,
     "input": [
      "sp.measure()"
     ],
     "language": "python",
     "metadata": {},
     "outputs": [],
     "prompt_number": 11
    },
    {
     "cell_type": "code",
     "collapsed": false,
     "input": [
      "for line in sp.measurements.lines.keys():\n",
      "    print line, sp.measurements.lines[line]['pos'].round(2), sp.measurements.lines[line]['flux'].round(1), \\\n",
      "    sp.measurements.lines[line]['amp'].round(1), sp.measurements.lines[line]['fwhm'].round(1)\n",
      "        "
     ],
     "language": "python",
     "metadata": {},
     "outputs": [
      {
       "output_type": "stream",
       "stream": "stdout",
       "text": [
        "OIIIb 5008.16 0.0 0.0 5.6\n",
        "H_4-2 4863.0 0.0 0.0 65.6\n",
        "OIIIa 4959.85 0.0 0.0 5.6\n",
        "unknown_1 4860.12 0.0 0.0 5.6\n"
       ]
      }
     ],
     "prompt_number": 12
    },
    {
     "cell_type": "markdown",
     "metadata": {},
     "source": [
      "FWHM are output in Angstroms. "
     ]
    },
    {
     "cell_type": "code",
     "collapsed": false,
     "input": [
      "5.6 * 2.998e5 / 5008.2 / 2.35 "
     ],
     "language": "python",
     "metadata": {},
     "outputs": [
      {
       "metadata": {},
       "output_type": "pyout",
       "prompt_number": 13,
       "text": [
        "142.64945914232572"
       ]
      }
     ],
     "prompt_number": 13
    },
    {
     "cell_type": "code",
     "collapsed": false,
     "input": [
      "65.6 * 2.998e5 / 4863."
     ],
     "language": "python",
     "metadata": {},
     "outputs": [
      {
       "metadata": {},
       "output_type": "pyout",
       "prompt_number": 14,
       "text": [
        "4044.1867160189186"
       ]
      }
     ],
     "prompt_number": 14
    },
    {
     "cell_type": "markdown",
     "metadata": {},
     "source": [
      "# Results\n",
      "\n",
      "Hbeta FWHM for 2153p1054 = 65.6 A --> 4044 km/s"
     ]
    },
    {
     "cell_type": "code",
     "collapsed": false,
     "input": [
      "# Plot the fit\n",
      "\n",
      "sp.plotter(xmin = xmin, xmax = xmax, linewidth = 2, axis = ax)\n",
      "sp.specfit.plot_fit(show_components = True, lw = 2)\n",
      "\n",
      "# Make some nice axis labels\n",
      "sp.plotter.axis.set_xlabel(r'Wavelength $(\\AA)$')\n",
      "sp.plotter.axis.set_ylabel(r'Flux $(\\mathrm{erg/s/cm^2/\\AA})$')\n",
      "sp.plotter.refresh()\n",
      "\n",
      "# Save\n",
      "fig.savefig('//Users/Kyle/NLS1/plots/pyspecfits/sdss2153p1054Hb.eps', format='eps')"
     ],
     "language": "python",
     "metadata": {},
     "outputs": [],
     "prompt_number": 15
    },
    {
     "cell_type": "code",
     "collapsed": false,
     "input": [],
     "language": "python",
     "metadata": {},
     "outputs": []
    }
   ],
   "metadata": {}
  }
 ]
}