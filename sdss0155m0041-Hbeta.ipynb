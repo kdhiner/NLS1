{
 "metadata": {
  "name": "",
  "signature": "sha256:3a997afbca48a6fbe143e543518a3c54f3d3f80548cdcc155605560e3a89e94a"
 },
 "nbformat": 3,
 "nbformat_minor": 0,
 "worksheets": [
  {
   "cells": [
    {
     "cell_type": "markdown",
     "metadata": {},
     "source": [
      "# Line Measurements\n",
      "\n",
      "This notebook is a copy of the Line Measurements notebook and is specifically tooled to the H alpha profile\n",
      "\n",
      "Note: the pyspeckit plotter routine does not function well when plots are shown inline. In particular, the plotter.refresh() feature does not work. So, start the notebook server from command line with $ipython notebook --pylab & "
     ]
    },
    {
     "cell_type": "markdown",
     "metadata": {},
     "source": [
      "#Generalization\n",
      "\n",
      "I want to generalize this notebook so that it will work with any of the spectra that I feed it. \n",
      "\n",
      "To reproduce first good fit that I obtained, must run once, crash, reinitialize parameters, run again."
     ]
    },
    {
     "cell_type": "code",
     "collapsed": false,
     "input": [
      "import numpy as np \n",
      "import pyspeckit as pspec \n",
      "from pyspeckit import spectrum as spec\n",
      "from matplotlib import pyplot as plt"
     ],
     "language": "python",
     "metadata": {},
     "outputs": [],
     "prompt_number": 1
    },
    {
     "cell_type": "code",
     "collapsed": false,
     "input": [
      "# Define the file directory where the data are located\n",
      "pre = '/Users/Kyle/NLS1/spectro/magellan14b/'\n",
      "post = '_z.fits'\n",
      "\n",
      "# Define region for H-alpha plotting\n",
      "xmin = 4700.\n",
      "xmax = 5200.\n",
      "\n",
      "# Define the regions for the continuum fitting\n",
      "ex_regions = [0, 4322, 4770, 5035, 5390, 5440, 5550, 5600, \\\n",
      "              5965, 6060, 6200, 6245, 6425, 6760, 6840, 7500]\n",
      "    \n",
      "# Define the initial parameters for line\n",
      "Hb = 4861\n",
      "OIIIa = 4959\n",
      "OIIIb = 5007\n",
      "\n",
      "T, F = True, False\n",
      "\n",
      "# Define the initial guesses\n",
      "guess = [3e-16, OIIIb, 10., \\\n",
      "        3e-16, Hb, 10., \\\n",
      "        1e-16, Hb, 50.]\n",
      "    \n",
      "# Define which parameters are constrained to each other\n",
      "tied = ['', '', '', \\\n",
      "        '', '', 'p[2]', \\\n",
      "        '', '', '']\n",
      "    \n",
      "# Define the limits on each parameter\n",
      "limits = [(0.1 * guess[0], 100.), (OIIIb - 2., OIIIb + 2.), (0., 20.), \\\n",
      "        (0.1 * guess[3], 100.), (Hb - 2., Hb + 2.), (0., 20.), \\\n",
      "        (0.1 * guess[6], 100.), (Hb - 2., Hb + 2.), (10., 100.)]\n",
      "    \n",
      "# State whether the limit should be enforced\n",
      "limited = [(T, F), (T, T), (F, T), \\\n",
      "        (T, F), (T, T), (F, T), \\\n",
      "        (F, F), (T, T), (T, F)]"
     ],
     "language": "python",
     "metadata": {},
     "outputs": [],
     "prompt_number": 18
    },
    {
     "cell_type": "code",
     "collapsed": false,
     "input": [
      "sp = spec.Spectrum(pre + 'sdss0155m0041' + post)\n",
      "fig = figure(figsize=(12,10))\n",
      "ax = fig.add_subplot(111)\n",
      "\n",
      "for axis in ['top','bottom','left','right']:\n",
      "    ax.spines[axis].set_linewidth(2)\n",
      "    \n",
      "for item in ([ax.title, ax.xaxis.label, ax.yaxis.label] +\n",
      "             ax.get_xticklabels() + ax.get_yticklabels()):\n",
      "    item.set_fontsize(20)\n",
      "    \n",
      "sp.plotter(figure=fig)"
     ],
     "language": "python",
     "metadata": {},
     "outputs": [
      {
       "output_type": "stream",
       "stream": "stderr",
       "text": [
        "The ascard function is deprecated and may be removed in a future version.\n",
        "        Use the `.cards` attribute instead.\n",
        "The CardList class has been deprecated; all its former functionality has been subsumed by the Header class, so CardList objects should not be directly created.  See the PyFITS 3.1.0 CHANGELOG for more details.\n",
        "The use of header.update() to add new keywords to a header is deprecated.  Instead, use either header.set() or simply `header[keyword] = value` or `header[keyword] = (value, comment)`.  header.set() is only necessary to use if you also want to use the before/after keyword arguments.\n",
        "Warning: No reference frequency found.  Velocity transformations will not be possible unless you set a reference frequency/wavelength\n"
       ]
      }
     ],
     "prompt_number": 3
    },
    {
     "cell_type": "code",
     "collapsed": false,
     "input": [
      "# Fit and remove the continuum \n",
      "\n",
      "sp.baseline(exclude = ex_regions, order = 3, highlight_fitregion = True)"
     ],
     "language": "python",
     "metadata": {},
     "outputs": [
      {
       "output_type": "stream",
       "stream": "stderr",
       "text": [
        "`rank` is deprecated; use the `ndim` attribute or function instead. To find the rank of a matrix see `numpy.linalg.matrix_rank`.\n"
       ]
      }
     ],
     "prompt_number": 4
    },
    {
     "cell_type": "markdown",
     "metadata": {},
     "source": [
      "sp.baseline.unsubtract()\n",
      "sp.baseline.plot_baseline()"
     ]
    },
    {
     "cell_type": "code",
     "collapsed": false,
     "input": [
      "# Fit the OIII lines and the Hbeta line\n",
      "sp.plotter(xmin = xmin, xmax = xmax)\n",
      "\n",
      "sp.specfit(fittype = 'gaussian', multifit = True, guesses = guess, \\\n",
      "            tied = tied, limits = limits, limited = limited, \\\n",
      "            fit_plotted_area = True)"
     ],
     "language": "python",
     "metadata": {},
     "outputs": [
      {
       "output_type": "stream",
       "stream": "stdout",
       "text": [
        "Renormalizing data by factor 1.051762e-17 to improve fitting procedure\n"
       ]
      }
     ],
     "prompt_number": 19
    },
    {
     "cell_type": "code",
     "collapsed": false,
     "input": [
      "sp.measure()"
     ],
     "language": "python",
     "metadata": {},
     "outputs": [],
     "prompt_number": 12
    },
    {
     "cell_type": "code",
     "collapsed": false,
     "input": [
      "for line in sp.measurements.lines.keys():\n",
      "    print line, sp.measurements.lines[line]['pos'].round(2), sp.measurements.lines[line]['flux'].round(1), \\\n",
      "    sp.measurements.lines[line]['amp'].round(1), sp.measurements.lines[line]['fwhm'].round(1)\n",
      "        "
     ],
     "language": "python",
     "metadata": {},
     "outputs": [
      {
       "output_type": "stream",
       "stream": "stdout",
       "text": [
        "unknown_2 4859.0 0.0 0.0 73.0\n",
        "unknown_3 5005.0 0.0 0.0 53.2\n",
        "unknown_1 4859.0 0.0 0.0 53.2\n"
       ]
      }
     ],
     "prompt_number": 13
    },
    {
     "cell_type": "markdown",
     "metadata": {},
     "source": [
      "FWHM are output in Angstroms. "
     ]
    },
    {
     "cell_type": "markdown",
     "metadata": {},
     "source": [
      "# Results\n",
      "\n",
      "Halph FWHM for 0155m0041 = 95.2 A --> 4352 km/s"
     ]
    },
    {
     "cell_type": "code",
     "collapsed": false,
     "input": [
      "95.2 * 2.998e5 / 6558."
     ],
     "language": "python",
     "metadata": {},
     "outputs": [
      {
       "metadata": {},
       "output_type": "pyout",
       "prompt_number": 1,
       "text": [
        "4352.082952119548"
       ]
      }
     ],
     "prompt_number": 1
    },
    {
     "cell_type": "code",
     "collapsed": false,
     "input": [
      "# Plot the fit\n",
      "\n",
      "sp.plotter(xmin = xmin, xmax = xmax, linewidth = 2, axis = ax)\n",
      "sp.specfit.plot_fit(show_components = True, lw = 2)\n",
      "\n",
      "# Make some nice axis labels\n",
      "sp.plotter.axis.set_xlabel(r'Wavelength $(\\AA)$')\n",
      "sp.plotter.axis.set_ylabel(r'Flux $(\\mathrm{erg/s/cm^2/\\AA})$')\n",
      "sp.plotter.refresh()\n",
      "\n",
      "# Save\n",
      "fig.savefig('//Users/Kyle/NLS1/plots/pyspecfits/sdss0155m0041Hb.eps', format='eps')"
     ],
     "language": "python",
     "metadata": {},
     "outputs": [],
     "prompt_number": 13
    },
    {
     "cell_type": "code",
     "collapsed": false,
     "input": [],
     "language": "python",
     "metadata": {},
     "outputs": [],
     "prompt_number": 13
    }
   ],
   "metadata": {}
  }
 ]
}