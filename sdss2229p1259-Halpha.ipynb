{
 "metadata": {
  "name": "",
  "signature": "sha256:2c20132af6e2ac6f2323ca06bd0d1d755c2da49c9afec3f7e816d3fbeee68c03"
 },
 "nbformat": 3,
 "nbformat_minor": 0,
 "worksheets": [
  {
   "cells": [
    {
     "cell_type": "markdown",
     "metadata": {},
     "source": [
      "# Line Measurements\n",
      "\n",
      "This notebook is a copy of the Line Measurements notebook and is specifically tooled to the H alpha profile\n",
      "\n",
      "Note: the pyspeckit plotter routine does not function well when plots are shown inline. In particular, the plotter.refresh() feature does not work. So, start the notebook server from command line with $ipython notebook --pylab & "
     ]
    },
    {
     "cell_type": "markdown",
     "metadata": {},
     "source": [
      "#Generalization\n",
      "\n",
      "I want to generalize this notebook so that it will work with any of the spectra that I feed it. \n",
      "\n",
      "To reproduce first good fit that I obtained, must run once, crash, reinitialize parameters, run again."
     ]
    },
    {
     "cell_type": "code",
     "collapsed": false,
     "input": [
      "import numpy as np \n",
      "import pyspeckit as pspec \n",
      "from pyspeckit import spectrum as spec\n",
      "from matplotlib import pyplot as plt"
     ],
     "language": "python",
     "metadata": {},
     "outputs": [],
     "prompt_number": 4
    },
    {
     "cell_type": "code",
     "collapsed": false,
     "input": [
      "# Define the file directory where the data are located\n",
      "pre = '/Users/Kyle/NLS1/spectro/magellan14b/'\n",
      "post = '_z.fits'\n",
      "\n",
      "# Define region for H-alpha plotting\n",
      "xmin = 6200.\n",
      "xmax = 7000.\n",
      "\n",
      "# Define the regions for the continuum fitting\n",
      "ex_regions = [0, 4505, 4760, 5030, 5110, 5160, 5780, 5820, \\\n",
      "              6220, 6300, 6460, 6500, 6520, 6750, 7125, 7500]\n",
      "    \n",
      "# Define the initial parameters for line\n",
      "Ha = 6563.\n",
      "NIIa = 6550.\n",
      "NIIb = 6586.\n",
      "SIIa = 6718.\n",
      "SIIb = 6733.\n",
      "\n",
      "T, F = True, False\n",
      "\n",
      "# Define the initial guesses\n",
      "guess = [1e-16, NIIa, 10., \\\n",
      "        2e-16, NIIb, 10., \\\n",
      "        1e-16, Ha, 10., \\\n",
      "        1e-16, Ha, 50., \\\n",
      "        1e-17, SIIa, 10., \\\n",
      "        1e-17, SIIb, 10.]\n",
      "    \n",
      "# Define which parameters are constrained to each other\n",
      "tied = ['', '', 'p[17]', \\\n",
      "        '', '', 'p[17]', \\\n",
      "        '', '', 'p[17]', \\\n",
      "        '', '', '', \\\n",
      "        '', '', 'p[17]', \\\n",
      "        '', '', '']\n",
      "    \n",
      "# Define the limits on each parameter\n",
      "limits = [(0.1 * guess[0], 100.), (NIIa - 2., NIIa + 2.), (0., 100.), \\\n",
      "        (0.1 * guess[3], 100.), (NIIb - 2., NIIb + 2.), (0., 100.), \\\n",
      "        (0.1 * guess[6], 100.), (Ha - 2., Ha + 2.), (0., 100.), \\\n",
      "        (0.1 * guess[9], 100.), (Ha - 2., Ha + 2.), (10., 100.),\n",
      "        (0.1 * guess[12], 100.), (SIIa - 2., SIIa + 2.), (0., 100.), \\\n",
      "        (0.1 * guess[15], 100.), (SIIb - 2., SIIb + 2.), (0., 100.)]\n",
      "    \n",
      "# State whether the limit should be enforced\n",
      "limited = [(T, F), (T, T), (F, T), \\\n",
      "        (T, F), (T, T), (F, T), \\\n",
      "        (T, F), (T, T), (F, T), \\\n",
      "        (F, F), (T, T), (T, F), \\\n",
      "        (T, F), (T, T), (F, T), \\\n",
      "        (T, F), (T, T), (F, T)]"
     ],
     "language": "python",
     "metadata": {},
     "outputs": [],
     "prompt_number": 9
    },
    {
     "cell_type": "code",
     "collapsed": false,
     "input": [
      "sp = spec.Spectrum(pre + 'sdss2229p1259' + post)\n",
      "fig = plt.figure(figsize = (12, 10))\n",
      "ax = fig.add_subplot(111)\n",
      "\n",
      "for axis in ['top','bottom','left','right']:\n",
      "    ax.spines[axis].set_linewidth(2)\n",
      "    \n",
      "for item in ([ax.title, ax.xaxis.label, ax.yaxis.label] +\n",
      "             ax.get_xticklabels() + ax.get_yticklabels()):\n",
      "    item.set_fontsize(20)\n",
      "\n",
      "sp.plotter(figure = fig)"
     ],
     "language": "python",
     "metadata": {},
     "outputs": [],
     "prompt_number": 6
    },
    {
     "cell_type": "code",
     "collapsed": false,
     "input": [
      "# Fit and remove the continuum \n",
      "\n",
      "sp.baseline(exclude = ex_regions, order = 3, highlight_fitregion = True)"
     ],
     "language": "python",
     "metadata": {},
     "outputs": [
      {
       "output_type": "stream",
       "stream": "stderr",
       "text": [
        "invalid value encountered in subtract\n",
        "`rank` is deprecated; use the `ndim` attribute or function instead. To find the rank of a matrix see `numpy.linalg.matrix_rank`.\n"
       ]
      }
     ],
     "prompt_number": 7
    },
    {
     "cell_type": "markdown",
     "metadata": {},
     "source": [
      "sp.baseline.unsubtract()\n",
      "sp.baseline.plot_baseline()"
     ]
    },
    {
     "cell_type": "code",
     "collapsed": false,
     "input": [
      "# Fit the NII lines and the Halpha line\n",
      "sp.plotter(xmin = xmin, xmax = xmax)\n",
      "\n",
      "sp.specfit(fittype = 'gaussian', multifit = True, guesses = guess, \\\n",
      "            tied = tied, limits = limits, limited = limited, \\\n",
      "            fit_plotted_area = True)"
     ],
     "language": "python",
     "metadata": {},
     "outputs": [
      {
       "output_type": "stream",
       "stream": "stdout",
       "text": [
        "Renormalizing data by factor 1.426329e-17 to improve fitting procedure\n"
       ]
      }
     ],
     "prompt_number": 10
    },
    {
     "cell_type": "code",
     "collapsed": false,
     "input": [
      "sp.measure()"
     ],
     "language": "python",
     "metadata": {},
     "outputs": [],
     "prompt_number": 11
    },
    {
     "cell_type": "code",
     "collapsed": false,
     "input": [
      "for line in sp.measurements.lines.keys():\n",
      "    print line, sp.measurements.lines[line]['pos'].round(2), sp.measurements.lines[line]['flux'].round(1), \\\n",
      "    sp.measurements.lines[line]['amp'].round(1), sp.measurements.lines[line]['fwhm'].round(1)\n",
      "        "
     ],
     "language": "python",
     "metadata": {},
     "outputs": [
      {
       "output_type": "stream",
       "stream": "stdout",
       "text": [
        "H_3-2_1 6565.0 0.0 0.0 43.4\n",
        "NIIa 6551.64 0.0 0.0 6.5\n",
        "NIIb 6585.77 0.0 0.0 6.5\n",
        "H_3-2 6565.0 0.0 0.0 6.5\n",
        "SIIb 6733.98 0.0 0.0 6.5\n",
        "SIIa 6719.86 0.0 0.0 6.5\n"
       ]
      }
     ],
     "prompt_number": 12
    },
    {
     "cell_type": "markdown",
     "metadata": {},
     "source": [
      "FWHM are output in Angstroms. \n",
      "\n",
      "One measurement of the H-beta FWHM for sdss2257m0020 was 84.3 A --> That corresponds to 5197. km/s. \n",
      "\n",
      "After including the narrow H-beta component, I find 98.7 A for the broad line --> 6085. km/s\n",
      "\n",
      "First measure of the H-alpha FWHM broad line is 77.1 A --> 3520. km/s\n",
      "\n",
      "Include SII lines and we get H-alpha FWHM 76.9 A --> 3512. km/s "
     ]
    },
    {
     "cell_type": "markdown",
     "metadata": {},
     "source": [
      "# Results\n",
      "\n",
      "Halph FWHM for 2229p1259 = 43.4 A --> 1982 km/s"
     ]
    },
    {
     "cell_type": "code",
     "collapsed": false,
     "input": [
      "# Plot the fit\n",
      "\n",
      "sp.plotter(xmin = xmin, xmax = xmax, linewidth = 2, axis = ax)\n",
      "sp.specfit.plot_fit(show_components = True, lw = 2)\n",
      "# Make some nice axis labels\n",
      "sp.plotter.axis.set_xlabel(r'Wavelength $(\\AA)$')\n",
      "sp.plotter.axis.set_ylabel(r'Flux $(\\mathrm{erg/s/cm^2/\\AA})$')\n",
      "sp.plotter.refresh()\n",
      "\n",
      "# Save\n",
      "fig.savefig('//Users/Kyle/NLS1/plots/pyspecfits/sdss2229p1259.eps', format='eps')"
     ],
     "language": "python",
     "metadata": {},
     "outputs": [],
     "prompt_number": 13
    },
    {
     "cell_type": "code",
     "collapsed": false,
     "input": [],
     "language": "python",
     "metadata": {},
     "outputs": [],
     "prompt_number": 13
    }
   ],
   "metadata": {}
  }
 ]
}