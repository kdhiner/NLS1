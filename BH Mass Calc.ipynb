{
 "metadata": {
  "name": "",
  "signature": "sha256:93baea3da54cff6bf99ca09be0900f8454d4f01e9acfaa94840990b7d604f3bd"
 },
 "nbformat": 3,
 "nbformat_minor": 0,
 "worksheets": [
  {
   "cells": [
    {
     "cell_type": "markdown",
     "metadata": {},
     "source": [
      "# BH Masses\n",
      "\n",
      "This notebook will be used to calculate the black hole masses based on the fwhm of the broad lines and the 5100 A luminosities. "
     ]
    },
    {
     "cell_type": "code",
     "collapsed": false,
     "input": [
      "import numpy as np"
     ],
     "language": "python",
     "metadata": {},
     "outputs": [],
     "prompt_number": 1
    },
    {
     "cell_type": "code",
     "collapsed": false,
     "input": [
      "def calc_Mbh_Ha(fwhm, lum):\n",
      "    '''Calculate BH mass using H alpha fwhm and 5100 A luminosity \n",
      "    as per the Green & Ho relation\n",
      "    \n",
      "    Inputs:\n",
      "    fwhm    -   FWHM of Halpha broad line in km/s\n",
      "    lum     -   5100 A luminosity in erg/s\n",
      "    \n",
      "    Output:\n",
      "    Mbh     -    Black hole mass in solar masses'''\n",
      "    \n",
      "    Mbh = 9.7e6 * (lum / 1e44)**0.519 * (fwhm / 1e3)**2.06\n",
      "    \n",
      "    return Mbh\n",
      "    "
     ],
     "language": "python",
     "metadata": {},
     "outputs": [],
     "prompt_number": 2
    },
    {
     "cell_type": "code",
     "collapsed": false,
     "input": [
      "# Record the object names\n",
      "names_nls1 = ['sdss0028m1039', 'sdss0100p1445', 'sdss0155m0041', \\\n",
      "              'sdss0314m0713', 'sdss2038m0519', 'sdss2153p1054', \\\n",
      "              'sdss2205p1340', 'sdss2215m0945', 'sdss2229p1259', \\\n",
      "              'sdss2257m0020', 'sdss2338m0920']\n",
      "\n",
      "# Record the H alpha FWHM measurements \n",
      "\n",
      "Ha_nls1 = [2737., 3904., 4140., 2851., 1745., 3699., \\\n",
      "           1., 1., 1982., 3512., 4624.]\n",
      "\n",
      "lum_nls1 = [1e44]*11\n"
     ],
     "language": "python",
     "metadata": {},
     "outputs": [],
     "prompt_number": 49
    },
    {
     "cell_type": "code",
     "collapsed": false,
     "input": [
      "# Calculate the black hole masses \n",
      "\n",
      "for e, target in enumerate(names_nls1):\n",
      "    Mbh = calc_Mbh_Ha(Ha_nls1[e], lum_nls1[e])\n",
      "    print 'Black hole mass for %s = %s M\\odot' \\\n",
      "        % (target, \"{:.2E}\".format(Mbh))\n"
     ],
     "language": "python",
     "metadata": {},
     "outputs": [
      {
       "output_type": "stream",
       "stream": "stdout",
       "text": [
        "Black hole mass for sdss0028m1039 = 7.72E+07 M\\odot\n",
        "Black hole mass for sdss0100p1445 = 1.60E+08 M\\odot\n",
        "Black hole mass for sdss0155m0041 = 1.81E+08 M\\odot\n",
        "Black hole mass for sdss0314m0713 = 8.40E+07 M\\odot\n",
        "Black hole mass for sdss2038m0519 = 3.05E+07 M\\odot\n",
        "Black hole mass for sdss2153p1054 = 1.44E+08 M\\odot\n",
        "Black hole mass for sdss2205p1340 = 6.41E+00 M\\odot\n",
        "Black hole mass for sdss2215m0945 = 6.41E+00 M\\odot\n",
        "Black hole mass for sdss2229p1259 = 3.97E+07 M\\odot\n",
        "Black hole mass for sdss2257m0020 = 1.29E+08 M\\odot\n",
        "Black hole mass for sdss2338m0920 = 2.27E+08 M\\odot\n"
       ]
      }
     ],
     "prompt_number": 50
    },
    {
     "cell_type": "code",
     "collapsed": false,
     "input": [],
     "language": "python",
     "metadata": {},
     "outputs": []
    }
   ],
   "metadata": {}
  }
 ]
}